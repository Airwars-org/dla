{
 "cells": [
  {
   "cell_type": "markdown",
   "metadata": {},
   "source": [
    "### Police departments to coordinates"
   ]
  },
  {
   "cell_type": "code",
   "execution_count": 1,
   "metadata": {},
   "outputs": [
    {
     "name": "stderr",
     "output_type": "stream",
     "text": [
      "  0%|          | 1/5389 [00:00<13:45,  6.53it/s]"
     ]
    },
    {
     "name": "stdout",
     "output_type": "stream",
     "text": [
      "Albertville Police Department, 201, South Broad Street, Albertville, Marshall County, Alabama, 35950, United States --->  ALBERTVILLE POLICE DEPT AL\n"
     ]
    },
    {
     "name": "stderr",
     "output_type": "stream",
     "text": [
      "  0%|          | 2/5389 [00:00<39:24,  2.28it/s]"
     ]
    },
    {
     "name": "stdout",
     "output_type": "stream",
     "text": [
      "None --->  GUNTERSVILLE POLICE DEPT AL\n"
     ]
    },
    {
     "name": "stderr",
     "output_type": "stream",
     "text": [
      "  0%|          | 4/5389 [00:01<35:42,  2.51it/s]"
     ]
    },
    {
     "name": "stdout",
     "output_type": "stream",
     "text": [
      "None --->  ALABAMA LAW ENFORCEMENT AGENCY AL\n",
      "Hanceville Police Department, Mill Street, Hanceville, Cullman County, Alabama, 35077, United States --->  HANCEVILLE POLICE DEPARTMENT AL\n"
     ]
    },
    {
     "name": "stderr",
     "output_type": "stream",
     "text": [
      "  0%|          | 5/5389 [00:02<45:42,  1.96it/s]"
     ]
    },
    {
     "name": "stdout",
     "output_type": "stream",
     "text": [
      "None --->  ETOWAH COUNTY SHERIFF'S OFFICE AL\n"
     ]
    },
    {
     "name": "stderr",
     "output_type": "stream",
     "text": [
      "  0%|          | 6/5389 [00:02<40:45,  2.20it/s]"
     ]
    },
    {
     "name": "stdout",
     "output_type": "stream",
     "text": [
      "Tuscaloosa Police Department, 3801, Officer Trevor S Phillips Avenue, Tuscaloosa, Tuscaloosa County, Alabama, 35401, United States --->  TUSCALOOSA POLICE DEPT AL\n"
     ]
    },
    {
     "name": "stderr",
     "output_type": "stream",
     "text": [
      "  0%|          | 7/5389 [00:03<43:09,  2.08it/s]"
     ]
    },
    {
     "name": "stdout",
     "output_type": "stream",
     "text": [
      "Greenville Police Department, 215, Administrative Drive, Greenville, Butler County, Alabama, 36037, United States --->  GREENVILLE POLICE DEPT AL\n"
     ]
    },
    {
     "name": "stderr",
     "output_type": "stream",
     "text": [
      "  0%|          | 8/5389 [00:03<46:49,  1.92it/s]"
     ]
    },
    {
     "name": "stdout",
     "output_type": "stream",
     "text": [
      "Limestone County Sheriff's Department, 101, Elm Street West, Elm Industrial Park, Athens, Limestone County, Alabama, 35611, United States --->  LIMESTONE COUNTY SHERIFF DEPT AL\n"
     ]
    },
    {
     "name": "stderr",
     "output_type": "stream",
     "text": [
      "  0%|          | 9/5389 [00:04<43:44,  2.05it/s]"
     ]
    },
    {
     "name": "stdout",
     "output_type": "stream",
     "text": [
      "Via Del Corso Lane, Coconut, Bonita Springs, Lee County, Florida, 34136, United States --->  LEE CSO AL\n"
     ]
    },
    {
     "name": "stderr",
     "output_type": "stream",
     "text": [
      "  0%|          | 10/5389 [00:04<49:17,  1.82it/s]"
     ]
    },
    {
     "name": "stdout",
     "output_type": "stream",
     "text": [
      "None --->  AUBURN POLICE DEPT AL\n"
     ]
    },
    {
     "name": "stderr",
     "output_type": "stream",
     "text": [
      "  0%|          | 11/5389 [00:05<46:12,  1.94it/s]"
     ]
    },
    {
     "name": "stdout",
     "output_type": "stream",
     "text": [
      "None --->  SHELBY COUNTY SHERIFF DEPT AL\n"
     ]
    },
    {
     "name": "stderr",
     "output_type": "stream",
     "text": [
      "  0%|          | 12/5389 [00:05<40:52,  2.19it/s]"
     ]
    },
    {
     "name": "stdout",
     "output_type": "stream",
     "text": [
      "Jefferson County Sheriff's Office, 2200, 22nd Street North, Birmingham, Jefferson County, Alabama, 35203, United States --->  JEFFERSON COUNTY SHERIFF'S OFFICE AL\n"
     ]
    },
    {
     "name": "stderr",
     "output_type": "stream",
     "text": [
      "  0%|          | 13/5389 [00:06<41:51,  2.14it/s]"
     ]
    },
    {
     "name": "stdout",
     "output_type": "stream",
     "text": [
      "None --->  ATMORE PD AL\n"
     ]
    },
    {
     "name": "stderr",
     "output_type": "stream",
     "text": [
      "  0%|          | 14/5389 [00:06<49:35,  1.81it/s]"
     ]
    },
    {
     "name": "stdout",
     "output_type": "stream",
     "text": [
      "None --->  CHEROKEE COUNTY SHERIFF DEPT AL\n"
     ]
    },
    {
     "name": "stderr",
     "output_type": "stream",
     "text": [
      "  0%|          | 16/5389 [00:07<42:20,  2.11it/s]"
     ]
    },
    {
     "name": "stdout",
     "output_type": "stream",
     "text": [
      "Troy Police Department, Elm Street, College Park, Troy, Pike County, Alabama, 36081, United States --->  TROY POLICE DEPT AL\n"
     ]
    },
    {
     "name": "stderr",
     "output_type": "stream",
     "text": [
      "  0%|          | 17/5389 [00:08<46:01,  1.95it/s]"
     ]
    },
    {
     "name": "stdout",
     "output_type": "stream",
     "text": [
      "None --->  DALE COUNTY SHERIFF OFFICE AL\n"
     ]
    },
    {
     "name": "stderr",
     "output_type": "stream",
     "text": [
      "  0%|          | 18/5389 [00:08<46:12,  1.94it/s]"
     ]
    },
    {
     "name": "stdout",
     "output_type": "stream",
     "text": [
      "None --->  DEKALB COUNTY SHERIFF OFFICE AL\n"
     ]
    },
    {
     "name": "stderr",
     "output_type": "stream",
     "text": [
      "  0%|          | 19/5389 [00:10<1:03:12,  1.42it/s]"
     ]
    },
    {
     "name": "stdout",
     "output_type": "stream",
     "text": [
      "Via del Corso, Toluca, Marshall County, Illinois, 61369, United States --->  MARSHALL CSO AL\n"
     ]
    },
    {
     "name": "stderr",
     "output_type": "stream",
     "text": [
      "  0%|          | 20/5389 [00:10<1:01:44,  1.45it/s]"
     ]
    },
    {
     "name": "stdout",
     "output_type": "stream",
     "text": [
      "None --->  ALEXANDER CITY POLICE DEPT AL\n"
     ]
    },
    {
     "name": "stderr",
     "output_type": "stream",
     "text": [
      "  0%|          | 21/5389 [00:11<51:50,  1.73it/s]  "
     ]
    },
    {
     "name": "stdout",
     "output_type": "stream",
     "text": [
      "Montgomery Police Department, North Jackson Street, Clisby Park, Montgomery, Montgomery County, Alabama, 36104, United States --->  MONTGOMERY POLICE DEPT AL\n"
     ]
    },
    {
     "name": "stderr",
     "output_type": "stream",
     "text": [
      "  0%|          | 22/5389 [00:11<54:34,  1.64it/s]"
     ]
    },
    {
     "name": "stdout",
     "output_type": "stream",
     "text": [
      "None --->  FAYETTE COUNTY SHERIFF DEPT AL\n"
     ]
    },
    {
     "name": "stderr",
     "output_type": "stream",
     "text": [
      "  0%|          | 23/5389 [00:12<52:15,  1.71it/s]"
     ]
    },
    {
     "name": "stdout",
     "output_type": "stream",
     "text": [
      "None --->  TUSCALOOSA COUNTY SHERIFF OFFICE AL\n"
     ]
    },
    {
     "name": "stderr",
     "output_type": "stream",
     "text": [
      "  0%|          | 24/5389 [00:12<49:31,  1.81it/s]"
     ]
    },
    {
     "name": "stdout",
     "output_type": "stream",
     "text": [
      "None --->  CHILTON COUNTY SHERIFF DEPT AL\n"
     ]
    },
    {
     "name": "stderr",
     "output_type": "stream",
     "text": [
      "  0%|          | 25/5389 [00:13<46:34,  1.92it/s]"
     ]
    },
    {
     "name": "stdout",
     "output_type": "stream",
     "text": [
      "None --->  ESCAMBIA COUNTY SHERIFF DEPT AL\n"
     ]
    },
    {
     "name": "stderr",
     "output_type": "stream",
     "text": [
      "  0%|          | 26/5389 [00:13<46:12,  1.93it/s]"
     ]
    },
    {
     "name": "stdout",
     "output_type": "stream",
     "text": [
      "None --->  WALKER COUNTY SHERIFF DEPT AL\n"
     ]
    },
    {
     "name": "stderr",
     "output_type": "stream",
     "text": [
      "  1%|          | 27/5389 [00:14<43:25,  2.06it/s]"
     ]
    },
    {
     "name": "stdout",
     "output_type": "stream",
     "text": [
      "Abbeville Police Department, 101, East Washington Street, Abbeville, Henry County, Alabama, 36310, United States --->  ABBEVILLE POLICE DEPT AL\n"
     ]
    },
    {
     "name": "stderr",
     "output_type": "stream",
     "text": [
      "  1%|          | 28/5389 [00:14<44:05,  2.03it/s]"
     ]
    },
    {
     "name": "stdout",
     "output_type": "stream",
     "text": [
      "Calera Police Department, 10th Street, Calera, Shelby County, Alabama, 35040, United States --->  CALERA POLICE DEPT AL\n"
     ]
    },
    {
     "name": "stderr",
     "output_type": "stream",
     "text": [
      "  1%|          | 29/5389 [00:15<46:06,  1.94it/s]"
     ]
    },
    {
     "name": "stdout",
     "output_type": "stream",
     "text": [
      "None --->  HOUSTON COUNTY SHERIFF DEPT AL\n"
     ]
    },
    {
     "name": "stderr",
     "output_type": "stream",
     "text": [
      "  1%|          | 30/5389 [00:15<47:16,  1.89it/s]"
     ]
    },
    {
     "name": "stdout",
     "output_type": "stream",
     "text": [
      "None --->  PICKENS COUNTY SHERIFF'S OFFICE AL\n"
     ]
    },
    {
     "name": "stderr",
     "output_type": "stream",
     "text": [
      "  1%|          | 31/5389 [00:16<46:44,  1.91it/s]"
     ]
    },
    {
     "name": "stdout",
     "output_type": "stream",
     "text": [
      "Blount County Sheriff’s Office, Fieldstone Road, Oneonta, Blount County, Alabama, 35121, United States --->  BLOUNT COUNTY SHERIFF OFFICE AL\n"
     ]
    },
    {
     "name": "stderr",
     "output_type": "stream",
     "text": [
      "  1%|          | 32/5389 [00:16<44:41,  2.00it/s]"
     ]
    },
    {
     "name": "stdout",
     "output_type": "stream",
     "text": [
      "None --->  JASPER POLICE DEPT AL\n"
     ]
    },
    {
     "name": "stderr",
     "output_type": "stream",
     "text": [
      "  1%|          | 34/5389 [00:17<38:51,  2.30it/s]"
     ]
    },
    {
     "name": "stdout",
     "output_type": "stream",
     "text": [
      "None --->  RUSSELL COUNTY SHERIFF OFFICE AL\n",
      "Northport Police Department, 24th Avenue, Roselawn, Northport, Tuscaloosa County, Alabama, 35473, United States --->  NORTHPORT POLICE DEPT AL\n"
     ]
    },
    {
     "name": "stderr",
     "output_type": "stream",
     "text": [
      "  1%|          | 35/5389 [00:18<47:33,  1.88it/s]"
     ]
    },
    {
     "name": "stdout",
     "output_type": "stream",
     "text": [
      "None --->  SAINT CLAIR COUNTY SHERIFF DEPT AL\n"
     ]
    }
   ],
   "source": [
    "import pandas as pd\n",
    "from geopy.geocoders import Nominatim\n",
    "from tqdm import tqdm\n",
    "\n",
    "data = pd.read_csv('data.csv', delimiter=';')\n",
    "\n",
    "geolocator = Nominatim(user_agent=\"geoapiExercises\")\n",
    "\n",
    "def get_lat_long(state, agency):\n",
    "    try:\n",
    "        location = geolocator.geocode(f\"{agency}, {state}, USA\")\n",
    "        if location:\n",
    "            return location.latitude, location.longitude\n",
    "        else:\n",
    "            return None, None\n",
    "    except:\n",
    "        return None, None\n",
    "\n",
    "data['Latitude'] = None\n",
    "data['Longitude'] = None\n",
    "\n",
    "unique_combinations = data[['State', 'Agency Name']].drop_duplicates()\n",
    "\n",
    "lat_long_dict = {}\n",
    "\n",
    "for _, row in tqdm(unique_combinations.iterrows(), total=unique_combinations.shape[0]):\n",
    "    state = row['State']\n",
    "    agency = row['Agency Name']\n",
    "    lat, long = get_lat_long(state, agency)\n",
    "    lat_long_dict[(state, agency)] = (lat, long)\n",
    "\n",
    "for i, row in data.iterrows():\n",
    "    state = row['State']\n",
    "    agency = row['Agency Name']\n",
    "    data.at[i, 'Latitude'] = lat_long_dict[(state, agency)][0]\n",
    "    data.at[i, 'Longitude'] = lat_long_dict[(state, agency)][1]\n",
    "\n",
    "data.to_csv('data_with_lat_long.csv', index=False)\n"
   ]
  }
 ],
 "metadata": {
  "kernelspec": {
   "display_name": "Python 3",
   "language": "python",
   "name": "python3"
  },
  "language_info": {
   "codemirror_mode": {
    "name": "ipython",
    "version": 3
   },
   "file_extension": ".py",
   "mimetype": "text/x-python",
   "name": "python",
   "nbconvert_exporter": "python",
   "pygments_lexer": "ipython3",
   "version": "3.12.3"
  }
 },
 "nbformat": 4,
 "nbformat_minor": 2
}
