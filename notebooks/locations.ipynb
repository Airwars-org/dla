{
 "cells": [
  {
   "cell_type": "markdown",
   "metadata": {},
   "source": [
    "### Police departments to coordinates"
   ]
  },
  {
   "cell_type": "code",
   "execution_count": null,
   "metadata": {},
   "outputs": [],
   "source": [
    "# import pandas as pd\n",
    "# from geopy.geocoders import Nominatim\n",
    "# from tqdm import tqdm\n",
    "\n",
    "# data = pd.read_csv('data.csv', delimiter=';')\n",
    "\n",
    "# geolocator = Nominatim(user_agent=\"geoapiExercises\")\n",
    "\n",
    "# def get_lat_long(query):\n",
    "#     try:\n",
    "#         # location = geolocator.geocode(f\"{agency}, {state}, USA\")\n",
    "#         location = geolocator.geocode(query)\n",
    "\n",
    "#         if location:\n",
    "            \n",
    "#             return location.raw\n",
    "#             return location.latitude, location.longitude\n",
    "#         else:\n",
    "#             return None, None\n",
    "#     except:\n",
    "#         return None, None"
   ]
  },
  {
   "cell_type": "code",
   "execution_count": null,
   "metadata": {},
   "outputs": [],
   "source": [
    "from dotenv import load_dotenv\n",
    "\n",
    "load_dotenv('.env') \n",
    "\n",
    "API_KEY = os.getenv('API_KEY')"
   ]
  },
  {
   "cell_type": "code",
   "execution_count": 1,
   "metadata": {},
   "outputs": [],
   "source": [
    "import pandas as pd\n",
    "import requests\n",
    "from tqdm import tqdm\n",
    "\n",
    "data = pd.read_csv('data.csv', delimiter=';')\n",
    "\n",
    "def get_lat_long(state, agency):\n",
    "    url = f'https://api.opencagedata.com/geocode/v1/json?q={agency}, {state}, USA&key={API_KEY}'\n",
    "    try:\n",
    "        response = requests.get(url).json()\n",
    "        if response['results']:\n",
    "            location = response['results'][0]['geometry']\n",
    "            return location['lat'], location['lng']\n",
    "        else:\n",
    "            return None, None\n",
    "    except:\n",
    "        return None, None"
   ]
  },
  {
   "cell_type": "code",
   "execution_count": 2,
   "metadata": {},
   "outputs": [
    {
     "data": {
      "text/plain": [
       "(32.75041, -86.75026)"
      ]
     },
     "execution_count": 2,
     "metadata": {},
     "output_type": "execute_result"
    }
   ],
   "source": [
    "get_lat_long(\"AL, USA\", \"GUNTERSVILLE POLICE DEPT\") # test"
   ]
  },
  {
   "cell_type": "markdown",
   "metadata": {},
   "source": [
    "### Run this if the data_with_lat_long does not exist"
   ]
  },
  {
   "cell_type": "code",
   "execution_count": 4,
   "metadata": {},
   "outputs": [
    {
     "name": "stderr",
     "output_type": "stream",
     "text": [
      "  1%|          | 32/5389 [00:14<43:19,  2.06it/s]"
     ]
    }
   ],
   "source": [
    "data['Latitude'] = None\n",
    "data['Longitude'] = None\n",
    "\n",
    "unique_combinations = data[['State', 'Agency Name']].drop_duplicates()\n",
    "lat_long_dict = {}\n",
    "\n",
    "for _, row in tqdm(unique_combinations.iterrows(), total=unique_combinations.shape[0]):\n",
    "    state = row['State']\n",
    "    agency = row['Agency Name']\n",
    "    lat, long = get_lat_long(state, agency)\n",
    "    lat_long_dict[(state, agency)] = (lat, long)\n",
    "for i, row in data.iterrows():\n",
    "    \n",
    "    state = row['State']\n",
    "    agency = row['Agency Name']\n",
    "    data.at[i, 'Latitude'] = lat_long_dict[(state, agency)][0]\n",
    "    data.at[i, 'Longitude'] = lat_long_dict[(state, agency)][1]\n",
    "    \n",
    "data.to_csv('data_with_lat_long.csv', index=False)"
   ]
  },
  {
   "cell_type": "markdown",
   "metadata": {},
   "source": [
    "### Run it again"
   ]
  },
  {
   "cell_type": "code",
   "execution_count": 3,
   "metadata": {},
   "outputs": [
    {
     "name": "stderr",
     "output_type": "stream",
     "text": [
      "100%|██████████| 526/526 [03:36<00:00,  2.43it/s]\n"
     ]
    }
   ],
   "source": [
    "data = pd.read_csv('data_with_lat_long.csv')\n",
    "\n",
    "missing_lat_long = data[(data['Latitude'].isnull()) | (data['Longitude'].isnull())]\n",
    "\n",
    "unique_missing_combinations = missing_lat_long[['State', 'Agency Name']].drop_duplicates()\n",
    "\n",
    "lat_long_dict = {}\n",
    "\n",
    "for _, row in tqdm(unique_missing_combinations.iterrows(), total=unique_missing_combinations.shape[0]):\n",
    "    state = row['State']\n",
    "    agency = row['Agency Name']\n",
    "    lat, long = get_lat_long(state, agency)\n",
    "    lat_long_dict[(state, agency)] = (lat, long)\n",
    "\n",
    "for i, row in missing_lat_long.iterrows():\n",
    "    state = row['State']\n",
    "    agency = row['Agency Name']\n",
    "    if lat_long_dict[(state, agency)][0] is not None and lat_long_dict[(state, agency)][1] is not None:\n",
    "        missing_lat_long.at[i, 'Latitude'] = lat_long_dict[(state, agency)][0]\n",
    "        missing_lat_long.at[i, 'Longitude'] = lat_long_dict[(state, agency)][1]\n",
    "\n",
    "data.update(missing_lat_long)\n",
    "data.to_csv('data_with_lat_long_1.csv', index=False)"
   ]
  },
  {
   "cell_type": "code",
   "execution_count": 5,
   "metadata": {},
   "outputs": [],
   "source": [
    "import pandas as pd\n",
    "\n",
    "df = pd.read_csv('data_with_lat_long_1.csv')\n",
    "\n",
    "json_data = df.to_json(orient='records')\n",
    "\n",
    "with open('data.json', 'w') as file:\n",
    "    file.write(json_data)\n"
   ]
  }
 ],
 "metadata": {
  "kernelspec": {
   "display_name": "Python 3",
   "language": "python",
   "name": "python3"
  },
  "language_info": {
   "codemirror_mode": {
    "name": "ipython",
    "version": 3
   },
   "file_extension": ".py",
   "mimetype": "text/x-python",
   "name": "python",
   "nbconvert_exporter": "python",
   "pygments_lexer": "ipython3",
   "version": "3.12.3"
  }
 },
 "nbformat": 4,
 "nbformat_minor": 2
}
